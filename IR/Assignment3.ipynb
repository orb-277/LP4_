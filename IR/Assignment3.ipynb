{
 "cells": [
  {
   "cell_type": "code",
   "execution_count": 6,
   "metadata": {},
   "outputs": [
    {
     "name": "stdout",
     "output_type": "stream",
     "text": [
      "['A', 'banana', 'is', 'an', 'elongated', ',', 'edible', 'fruit', '–', 'botanically', 'a', 'berry', '[', '1', ']', '[', '2', ']', '–', 'produced', 'by', 'several', 'kinds', 'of', 'large', 'herbaceous', 'flowering', 'plants', 'in', 'the', 'genus', 'Musa', '.', '[', '3', ']', 'In', 'some', 'countries', ',', 'bananas', 'used', 'for', 'cooking', 'may', 'be', 'called', '``', 'plantains', \"''\", ',', 'distinguishing', 'them', 'from', 'dessert', 'bananas', '.', 'The', 'fruit', 'is', 'variable', 'in', 'size', ',', 'color', ',', 'and', 'firmness', ',', 'but', 'is', 'usually', 'elongated', 'and', 'curved', ',', 'with', 'soft', 'flesh', 'rich', 'in', 'starch', 'covered', 'with', 'a', 'rind', ',', 'which', 'may', 'be', 'green', ',', 'yellow', ',', 'red', ',', 'purple', ',', 'or', 'brown', 'when', 'ripe', '.', 'The', 'fruits', 'grow', 'upward', 'in', 'clusters', 'near', 'the', 'top', 'of', 'the', 'plant', '.', 'Almost', 'all', 'modern', 'edible', 'seedless', '(', 'parthenocarp', ')', 'bananas', 'come', 'from', 'two', 'wild', 'species', '–', 'Musa', 'acuminata', 'and', 'Musa', 'balbisiana', '.', 'The', 'scientific', 'names', 'of', 'most', 'cultivated', 'bananas', 'are', 'Musa', 'acuminata', ',', 'Musa', 'balbisiana', ',', 'and', 'Musa', '×', 'paradisiaca', 'for', 'the', 'hybrid', 'Musa', 'acuminata', '×', 'M.', 'balbisiana', ',', 'depending', 'on', 'their', 'genomic', 'constitution', '.', 'The', 'old', 'scientific', 'name', 'for', 'this', 'hybrid', ',', 'Musa', 'sapientum', ',', 'is', 'no', 'longer', 'used', '.']\n",
      "['A', 'banana', 'elongated', ',', 'edible', 'fruit', '–', 'botanically', 'berry', '[', '1', ']', '[', '2', ']', '–', 'produced', 'several', 'kinds', 'large', 'herbaceous', 'flowering', 'plants', 'genus', 'Musa', '.', '[', '3', ']', 'In', 'countries', ',', 'bananas', 'used', 'cooking', 'may', 'called', '``', 'plantains', \"''\", ',', 'distinguishing', 'dessert', 'bananas', '.', 'The', 'fruit', 'variable', 'size', ',', 'color', ',', 'firmness', ',', 'usually', 'elongated', 'curved', ',', 'soft', 'flesh', 'rich', 'starch', 'covered', 'rind', ',', 'may', 'green', ',', 'yellow', ',', 'red', ',', 'purple', ',', 'brown', 'ripe', '.', 'The', 'fruits', 'grow', 'upward', 'clusters', 'near', 'top', 'plant', '.', 'Almost', 'modern', 'edible', 'seedless', '(', 'parthenocarp', ')', 'bananas', 'come', 'two', 'wild', 'species', '–', 'Musa', 'acuminata', 'Musa', 'balbisiana', '.', 'The', 'scientific', 'names', 'cultivated', 'bananas', 'Musa', 'acuminata', ',', 'Musa', 'balbisiana', ',', 'Musa', '×', 'paradisiaca', 'hybrid', 'Musa', 'acuminata', '×', 'M.', 'balbisiana', ',', 'depending', 'genomic', 'constitution', '.', 'The', 'old', 'scientific', 'name', 'hybrid', ',', 'Musa', 'sapientum', ',', 'longer', 'used', '.']\n"
     ]
    },
    {
     "name": "stderr",
     "output_type": "stream",
     "text": [
      "[nltk_data] Downloading package punkt to /home/omkar/nltk_data...\n",
      "[nltk_data]   Package punkt is already up-to-date!\n"
     ]
    }
   ],
   "source": [
    "\n",
    "import nltk\n",
    "nltk.download('punkt')\n",
    "from nltk.corpus import stopwords\n",
    "\n",
    "from nltk.tokenize import word_tokenize\n",
    " \n",
    "example_sent = \"\"\"A banana is an elongated, edible fruit – botanically a berry[1][2] – produced by several kinds of large herbaceous flowering plants in the genus Musa.[3] In some countries, bananas used for cooking may be called \"plantains\", distinguishing them from dessert bananas. The fruit is variable in size, color, and firmness, but is usually elongated and curved, with soft flesh rich in starch covered with a rind, which may be green, yellow, red, purple, or brown when ripe. The fruits grow upward in clusters near the top of the plant. Almost all modern edible seedless (parthenocarp) bananas come from two wild species – Musa acuminata and Musa balbisiana. The scientific names of most cultivated bananas are Musa acuminata, Musa balbisiana, and Musa × paradisiaca for the hybrid Musa acuminata × M. balbisiana, depending on their genomic constitution. The old scientific name for this hybrid, Musa sapientum, is no longer used.\"\"\"\n",
    " \n",
    "stop_words = set(stopwords.words('english'))\n",
    " \n",
    "word_tokens = word_tokenize(example_sent)\n",
    "# converts the words in word_tokens to lower case and then checks whether \n",
    "#they are present in stop_words or not\n",
    "filtered_sentence = [w for w in word_tokens if not w.lower() in stop_words]\n",
    "#with no lower case conversion\n",
    "filtered_sentence = []\n",
    " \n",
    "for w in word_tokens:\n",
    "    if w not in stop_words:\n",
    "        filtered_sentence.append(w)\n",
    " \n",
    "print(word_tokens)\n",
    "print(filtered_sentence)\n"
   ]
  },
  {
   "cell_type": "code",
   "execution_count": 2,
   "metadata": {},
   "outputs": [
    {
     "name": "stdout",
     "output_type": "stream",
     "text": [
      "Collecting nltk\n",
      "  Downloading nltk-3.8.1-py3-none-any.whl (1.5 MB)\n",
      "\u001b[2K     \u001b[90m━━━━━━━━━━━━━━━━━━━━━━━━━━━━━━━━━━━━━━━━\u001b[0m \u001b[32m1.5/1.5 MB\u001b[0m \u001b[31m1.3 MB/s\u001b[0m eta \u001b[36m0:00:00\u001b[0m00:01\u001b[0m00:01\u001b[0m0m\n",
      "\u001b[?25hRequirement already satisfied: joblib in /home/omkar/miniconda3/envs/tf2/lib/python3.9/site-packages (from nltk) (1.2.0)\n",
      "Requirement already satisfied: click in /home/omkar/miniconda3/envs/tf2/lib/python3.9/site-packages (from nltk) (8.0.4)\n",
      "Requirement already satisfied: tqdm in /home/omkar/miniconda3/envs/tf2/lib/python3.9/site-packages (from nltk) (4.64.1)\n",
      "Collecting regex>=2021.8.3\n",
      "  Downloading regex-2023.10.3-cp39-cp39-manylinux_2_17_x86_64.manylinux2014_x86_64.whl (773 kB)\n",
      "\u001b[2K     \u001b[90m━━━━━━━━━━━━━━━━━━━━━━━━━━━━━━━━━━━━━\u001b[0m \u001b[32m773.3/773.3 kB\u001b[0m \u001b[31m264.7 kB/s\u001b[0m eta \u001b[36m0:00:00\u001b[0ma \u001b[36m0:00:01\u001b[0m\n",
      "\u001b[?25hInstalling collected packages: regex, nltk\n",
      "Successfully installed nltk-3.8.1 regex-2023.10.3\n"
     ]
    }
   ],
   "source": [
    "!pip install nltk"
   ]
  },
  {
   "cell_type": "code",
   "execution_count": null,
   "metadata": {},
   "outputs": [],
   "source": []
  }
 ],
 "metadata": {
  "kernelspec": {
   "display_name": "tf2",
   "language": "python",
   "name": "tf2"
  },
  "language_info": {
   "codemirror_mode": {
    "name": "ipython",
    "version": 3
   },
   "file_extension": ".py",
   "mimetype": "text/x-python",
   "name": "python",
   "nbconvert_exporter": "python",
   "pygments_lexer": "ipython3",
   "version": "3.9.16"
  },
  "orig_nbformat": 4
 },
 "nbformat": 4,
 "nbformat_minor": 2
}
