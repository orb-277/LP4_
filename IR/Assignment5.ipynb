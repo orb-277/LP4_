{
 "cells": [
  {
   "cell_type": "code",
   "execution_count": 2,
   "metadata": {},
   "outputs": [
    {
     "name": "stdout",
     "output_type": "stream",
     "text": [
      "Iteration 1: https://en.wikipedia.org/wiki/Repository_(version_control)\n",
      "Iteration 2: https://en.wikipedia.org/wiki/Git\n",
      "Iteration 3: https://en.wikipedia.org/wiki/AIX\n",
      "Iteration 4: https://en.wikipedia.org/wiki/UNIX_System_V\n",
      "Iteration 5: https://en.wikipedia.org/wiki/Oracle_Corporation\n"
     ]
    }
   ],
   "source": [
    "import requests\n",
    "from bs4 import BeautifulSoup\n",
    "\n",
    "# Function to follow the first link on a Wikipedia page and print the URL\n",
    "def follow_first_link(url, iterations):\n",
    "    for i in range(iterations):\n",
    "        # Send an HTTP GET request to the URL\n",
    "        response = requests.get(url)\n",
    "\n",
    "        if response.status_code == 200:\n",
    "            # Parse the HTML content of the page using BeautifulSoup\n",
    "            soup = BeautifulSoup(response.text, 'html.parser')\n",
    "\n",
    "            # Find links to other Wikipedia pages on the current page\n",
    "            links = soup.find_all(\"a\", href=True)\n",
    "\n",
    "            # Filter out links to other Wikipedia articles\n",
    "            wiki_links = [link['href'] for link in links if link['href'].startswith('/wiki/')]\n",
    "\n",
    "            if wiki_links:\n",
    "                next_link = wiki_links[50]\n",
    "                url = f\"https://en.wikipedia.org{next_link}\"\n",
    "                print(f\"Iteration {i + 1}: {url}\")\n",
    "            else:\n",
    "                print(f\"Iteration {i + 1}: No more Wikipedia links found. Exiting.\")\n",
    "                break\n",
    "        else:\n",
    "            print(f\"Failed to retrieve the page: {url}\")\n",
    "            break\n",
    "\n",
    "if __name__ == '__main__':\n",
    "    # Wikipedia page URL to start scraping\n",
    "    starting_url = \"https://en.wikipedia.org/wiki/Web_crawling\"\n",
    "\n",
    "    # Number of iterations\n",
    "    iterations = 5\n",
    "\n",
    "    follow_first_link(starting_url, iterations)\n"
   ]
  },
  {
   "cell_type": "code",
   "execution_count": 2,
   "metadata": {},
   "outputs": [
    {
     "name": "stdout",
     "output_type": "stream",
     "text": [
      "Collecting bs4\n",
      "  Using cached bs4-0.0.1.tar.gz (1.1 kB)\n",
      "  Preparing metadata (setup.py) ... \u001b[?25ldone\n",
      "\u001b[?25hCollecting beautifulsoup4\n",
      "  Using cached beautifulsoup4-4.12.2-py3-none-any.whl (142 kB)\n",
      "Collecting soupsieve>1.2\n",
      "  Downloading soupsieve-2.5-py3-none-any.whl (36 kB)\n",
      "Building wheels for collected packages: bs4\n",
      "  Building wheel for bs4 (setup.py) ... \u001b[?25ldone\n",
      "\u001b[?25h  Created wheel for bs4: filename=bs4-0.0.1-py3-none-any.whl size=1257 sha256=f950daed1d15814078191250ec1920da9f5a734a7acad73af902c454a8792fe5\n",
      "  Stored in directory: /home/omkar/.cache/pip/wheels/8b/ac/c5/cb646ab01df6f353a9994b1c97dffb94f9b12013d64c162c58\n",
      "Successfully built bs4\n",
      "Installing collected packages: soupsieve, beautifulsoup4, bs4\n",
      "Successfully installed beautifulsoup4-4.12.2 bs4-0.0.1 soupsieve-2.5\n"
     ]
    }
   ],
   "source": [
    "!pip install bs4"
   ]
  },
  {
   "cell_type": "code",
   "execution_count": null,
   "metadata": {},
   "outputs": [],
   "source": []
  }
 ],
 "metadata": {
  "kernelspec": {
   "display_name": "tf2",
   "language": "python",
   "name": "tf2"
  },
  "language_info": {
   "codemirror_mode": {
    "name": "ipython",
    "version": 3
   },
   "file_extension": ".py",
   "mimetype": "text/x-python",
   "name": "python",
   "nbconvert_exporter": "python",
   "pygments_lexer": "ipython3",
   "version": "3.9.16"
  },
  "orig_nbformat": 4
 },
 "nbformat": 4,
 "nbformat_minor": 2
}
