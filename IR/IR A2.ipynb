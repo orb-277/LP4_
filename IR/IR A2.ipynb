{
 "cells": [
  {
   "cell_type": "code",
   "execution_count": 1,
   "id": "c42de391",
   "metadata": {},
   "outputs": [],
   "source": [
    "import numpy as np"
   ]
  },
  {
   "cell_type": "code",
   "execution_count": 2,
   "id": "545e5597",
   "metadata": {},
   "outputs": [],
   "source": [
    "# Define the web graph as an adjacency matrix\n",
    "# For simplicity, this graph is small, but in real applications, it would be much larger\n",
    "web_graph = np.array([\n",
    "    [0, 1, 1, 0],\n",
    "    [1, 0, 1, 0],\n",
    "    [0, 0, 0, 1],\n",
    "    [0, 1, 0, 0]\n",
    "])"
   ]
  },
  {
   "cell_type": "code",
   "execution_count": 3,
   "id": "3b46b0b8",
   "metadata": {},
   "outputs": [],
   "source": [
    "# Initialize PageRank values\n",
    "num_pages = web_graph.shape[0]\n",
    "pagerank = np.ones(num_pages) / num_pages"
   ]
  },
  {
   "cell_type": "code",
   "execution_count": 4,
   "id": "e8b50ae4",
   "metadata": {},
   "outputs": [],
   "source": [
    "# PageRank algorithm parameters\n",
    "damping_factor = 0.85\n",
    "iterations = 20"
   ]
  },
  {
   "cell_type": "code",
   "execution_count": 5,
   "id": "671e4d9a",
   "metadata": {},
   "outputs": [],
   "source": [
    "    # Perform PageRank iterations\n",
    "for _ in range(iterations):\n",
    "    new_pagerank = np.zeros(num_pages)\n",
    "    for i in range(num_pages):\n",
    "        for j in range(num_pages):\n",
    "            if web_graph[j, i] == 1:\n",
    "                new_pagerank[i] += pagerank[j] / np.sum(web_graph[j])\n",
    "    pagerank = (1 - damping_factor) / num_pages + damping_factor * new_pagerank"
   ]
  },
  {
   "cell_type": "code",
   "execution_count": 6,
   "id": "4c54e3aa",
   "metadata": {},
   "outputs": [
    {
     "name": "stdout",
     "output_type": "stream",
     "text": [
      "Page 1: PageRank = 0.1754\n",
      "Page 2: PageRank = 0.3246\n",
      "Page 3: PageRank = 0.2500\n",
      "Page 4: PageRank = 0.2500\n"
     ]
    }
   ],
   "source": [
    "# Print the PageRank scores\n",
    "for i, score in enumerate(pagerank):\n",
    "    print(f\"Page {i + 1}: PageRank = {score:.4f}\")"
   ]
  },
  {
   "cell_type": "code",
   "execution_count": null,
   "id": "be60a6d6",
   "metadata": {},
   "outputs": [],
   "source": []
  }
 ],
 "metadata": {
  "kernelspec": {
   "display_name": "Python 3 (ipykernel)",
   "language": "python",
   "name": "python3"
  },
  "language_info": {
   "codemirror_mode": {
    "name": "ipython",
    "version": 3
   },
   "file_extension": ".py",
   "mimetype": "text/x-python",
   "name": "python",
   "nbconvert_exporter": "python",
   "pygments_lexer": "ipython3",
   "version": "3.10.11"
  }
 },
 "nbformat": 4,
 "nbformat_minor": 5
}
