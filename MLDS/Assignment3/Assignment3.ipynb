{
 "cells": [
  {
   "cell_type": "code",
   "execution_count": 1,
   "metadata": {},
   "outputs": [
    {
     "name": "stderr",
     "output_type": "stream",
     "text": [
      "/tmp/ipykernel_20742/240781873.py:31: RuntimeWarning: invalid value encountered in double_scalars\n",
      "  c=-(weights[2]/weights[0])\n",
      "/tmp/ipykernel_20742/240781873.py:43: RuntimeWarning: divide by zero encountered in double_scalars\n",
      "  slope =-(weights[0]/weights[1])\n"
     ]
    },
    {
     "name": "stdout",
     "output_type": "stream",
     "text": [
      "input is:\n",
      "[[ 1  1  1]\n",
      " [ 1 -1  1]\n",
      " [-1  1  1]\n",
      " [-1 -1  1]]\n",
      "output for And Gate is: \n",
      "[[ 1]\n",
      " [-1]\n",
      " [-1]\n",
      " [-1]]\n",
      "output for Or Gate is: \n",
      "[[ 1]\n",
      " [-1]\n",
      " [-1]\n",
      " [-1]]\n",
      "[0. 0. 0.]\n",
      "Checking after learning selectg a input\n"
     ]
    },
    {
     "ename": "ValueError",
     "evalue": "invalid literal for int() with base 10: ''",
     "output_type": "error",
     "traceback": [
      "\u001b[0;31m---------------------------------------------------------------------------\u001b[0m",
      "\u001b[0;31mValueError\u001b[0m                                Traceback (most recent call last)",
      "\u001b[1;32m/home/omkar/LP4/MLDS/Assignment3/Assignment3.ipynb Cell 1\u001b[0m line \u001b[0;36m5\n\u001b[1;32m     <a href='vscode-notebook-cell:/home/omkar/LP4/MLDS/Assignment3/Assignment3.ipynb#W0sZmlsZQ%3D%3D?line=52'>53</a>\u001b[0m weights_o\u001b[39m=\u001b[39mupdate_weight_o(X,Y_o,weights_o)\n\u001b[1;32m     <a href='vscode-notebook-cell:/home/omkar/LP4/MLDS/Assignment3/Assignment3.ipynb#W0sZmlsZQ%3D%3D?line=55'>56</a>\u001b[0m \u001b[39mprint\u001b[39m(\u001b[39m'\u001b[39m\u001b[39mChecking after learning selectg a input\u001b[39m\u001b[39m'\u001b[39m)\n\u001b[0;32m---> <a href='vscode-notebook-cell:/home/omkar/LP4/MLDS/Assignment3/Assignment3.ipynb#W0sZmlsZQ%3D%3D?line=56'>57</a>\u001b[0m rand_int\u001b[39m=\u001b[39m\u001b[39mint\u001b[39;49m(\u001b[39minput\u001b[39;49m(\u001b[39m'\u001b[39;49m\u001b[39mEnter the test case no you want to try\u001b[39;49m\u001b[39m'\u001b[39;49m))\n\u001b[1;32m     <a href='vscode-notebook-cell:/home/omkar/LP4/MLDS/Assignment3/Assignment3.ipynb#W0sZmlsZQ%3D%3D?line=57'>58</a>\u001b[0m \u001b[39mprint\u001b[39m(\u001b[39m'\u001b[39m\u001b[39mSelect a logic you also want  to check\u001b[39m\u001b[39m'\u001b[39m)\n\u001b[1;32m     <a href='vscode-notebook-cell:/home/omkar/LP4/MLDS/Assignment3/Assignment3.ipynb#W0sZmlsZQ%3D%3D?line=58'>59</a>\u001b[0m logicgate\u001b[39m=\u001b[39m\u001b[39minput\u001b[39m()\n",
      "\u001b[0;31mValueError\u001b[0m: invalid literal for int() with base 10: ''"
     ]
    }
   ],
   "source": [
    "import numpy as np \n",
    "from random import randint\n",
    "#inputs \n",
    "\n",
    "X=np.array([[1,1,1],[1,-1,1],[-1,1,1],[-1,-1,1]])\n",
    "#output\n",
    "Y_ad=np.array([[1],[-1],[-1],[-1]])\n",
    "Y_o=np.array([[1],[1],[1],[-1]])\n",
    "\n",
    "\n",
    "\n",
    "print('input is:')\n",
    "print(X)\n",
    "print('output for And Gate is: ')\n",
    "print(Y_ad)\n",
    "print('output for Or Gate is: ')\n",
    "print(Y_ad)\n",
    "weights_ad=np.zeros((3))\n",
    "weights_o=np.zeros((3))\n",
    "print(weights_ad)\n",
    "\n",
    "\n",
    "# update weight for and gate /logic\n",
    "def update_weight_ad(X,Y,weights):\n",
    "    for i in range(4):\n",
    "         \n",
    "        weights=weights+X[i]*Y[i]\n",
    "        \n",
    "        #print weights\n",
    "        slope =-(weights[0]/weights[1])\n",
    "        c=-(weights[2]/weights[0])\n",
    "        if slope<0 and weights[0]>0:\n",
    "            weights_main=weights\n",
    "        \n",
    "    return weights_main\n",
    "            \n",
    "def update_weight_o(X,Y,weights):\n",
    "    for i in range(4):\n",
    "         \n",
    "        weights=weights+X[i]*Y[i]\n",
    "        \n",
    "        #print weights\n",
    "        slope =-(weights[0]/weights[1])\n",
    "        c=-(weights[2]/weights[0])\n",
    "        if slope<0 and weights[0]>0:\n",
    "            weights_main=weights\n",
    "        \n",
    "    return weights_main\n",
    "        \n",
    "        \n",
    "    \n",
    "weights_ad=update_weight_ad(X,Y_ad,weights_ad)\n",
    "weights_o=update_weight_o(X,Y_o,weights_o)\n",
    "\n",
    "\n",
    "print('Checking after learning selectg a input')\n",
    "rand_int=int(input('Enter the test case no you want to try'))\n",
    "print('Select a logic you also want  to check')\n",
    "logicgate=input()\n",
    "print(weights_ad)\n",
    "print('selected input is %d '%rand_int)\n",
    "print(X[rand_int])\n",
    "def check_learning(X,weights,rand_int):\n",
    "    Yin=0\n",
    "    for i in range(3):\n",
    "        Yin+=X[rand_int,i]*weights[i]\n",
    "    if Yin<0:\n",
    "        Yin=-1\n",
    "    else:\n",
    "        Yin=1\n",
    "    return Yin\n",
    "\n",
    "\n",
    "if logicgate=='a' or logicgate=='A':\n",
    "    weights_in=weights_ad\n",
    "else:\n",
    "    weights_in=weights_o\n",
    "Yin=check_learning(X,weights_in,rand_int)\n",
    "print(Yin)"
   ]
  },
  {
   "cell_type": "code",
   "execution_count": null,
   "metadata": {},
   "outputs": [],
   "source": []
  }
 ],
 "metadata": {
  "kernelspec": {
   "display_name": "tf2",
   "language": "python",
   "name": "tf2"
  },
  "language_info": {
   "codemirror_mode": {
    "name": "ipython",
    "version": 3
   },
   "file_extension": ".py",
   "mimetype": "text/x-python",
   "name": "python",
   "nbconvert_exporter": "python",
   "pygments_lexer": "ipython3",
   "version": "3.9.16"
  },
  "orig_nbformat": 4
 },
 "nbformat": 4,
 "nbformat_minor": 2
}
