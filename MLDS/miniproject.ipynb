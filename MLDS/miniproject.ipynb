{
 "cells": [
  {
   "cell_type": "code",
   "execution_count": 3,
   "metadata": {},
   "outputs": [],
   "source": [
    "import cv2\n",
    "import numpy as np\n",
    "from sklearn.model_selection import train_test_split\n",
    "from sklearn.metrics import classification_report\n",
    "from sklearn.metrics import accuracy_score\n",
    "\n",
    "# Load the LFW dataset\n",
    "from sklearn.datasets import fetch_lfw_people\n",
    "lfw_people = fetch_lfw_people(min_faces_per_person=70, resize=0.4)\n",
    "\n",
    "\n",
    "X_train, X_test, y_train, y_test = train_test_split(lfw_people.data, lfw_people.target, test_size=0.25, random_state=42)\n",
    "\n",
    "\n"
   ]
  },
  {
   "cell_type": "code",
   "execution_count": null,
   "metadata": {},
   "outputs": [],
   "source": []
  },
  {
   "cell_type": "code",
   "execution_count": 8,
   "metadata": {},
   "outputs": [
    {
     "name": "stdout",
     "output_type": "stream",
     "text": [
      "\u001b[33mWARNING: Skipping opencv-contrib-python as it is not installed.\u001b[0m\u001b[33m\n",
      "\u001b[0mCollecting opencv-contrib-python\n",
      "  Downloading opencv_contrib_python-4.8.1.78-cp37-abi3-manylinux_2_17_x86_64.manylinux2014_x86_64.whl (67.8 MB)\n",
      "\u001b[2K     \u001b[90m━━━━━━━━━━━━━━━━━━━━━━━━━━━━━━━━━━━━━━━━\u001b[0m \u001b[32m67.8/67.8 MB\u001b[0m \u001b[31m1.2 MB/s\u001b[0m eta \u001b[36m0:00:00\u001b[0m00:01\u001b[0m00:02\u001b[0m\n",
      "\u001b[?25hRequirement already satisfied: numpy>=1.17.0 in /home/omkar/miniconda3/envs/tf2/lib/python3.9/site-packages (from opencv-contrib-python) (1.23.5)\n",
      "Installing collected packages: opencv-contrib-python\n",
      "Successfully installed opencv-contrib-python-4.8.1.78\n"
     ]
    }
   ],
   "source": [
    "!pip uninstall opencv-contrib-python\n",
    "!pip install opencv-contrib-python --no-cache-dir"
   ]
  },
  {
   "cell_type": "code",
   "execution_count": 9,
   "metadata": {},
   "outputs": [
    {
     "ename": "AttributeError",
     "evalue": "module 'cv2' has no attribute 'face_EigenFaceRecognizer_create'",
     "output_type": "error",
     "traceback": [
      "\u001b[0;31m---------------------------------------------------------------------------\u001b[0m",
      "\u001b[0;31mAttributeError\u001b[0m                            Traceback (most recent call last)",
      "\u001b[1;32m/home/omkar/LP4/MLDS/miniproject.ipynb Cell 4\u001b[0m line \u001b[0;36m2\n\u001b[1;32m      <a href='vscode-notebook-cell:/home/omkar/LP4/MLDS/miniproject.ipynb#W2sZmlsZQ%3D%3D?line=0'>1</a>\u001b[0m classifiers \u001b[39m=\u001b[39m {\n\u001b[0;32m----> <a href='vscode-notebook-cell:/home/omkar/LP4/MLDS/miniproject.ipynb#W2sZmlsZQ%3D%3D?line=1'>2</a>\u001b[0m     \u001b[39m\"\u001b[39m\u001b[39mEigenfaces\u001b[39m\u001b[39m\"\u001b[39m: cv2\u001b[39m.\u001b[39;49mface_EigenFaceRecognizer_create(),\n\u001b[1;32m      <a href='vscode-notebook-cell:/home/omkar/LP4/MLDS/miniproject.ipynb#W2sZmlsZQ%3D%3D?line=2'>3</a>\u001b[0m     \u001b[39m\"\u001b[39m\u001b[39mFisherfaces\u001b[39m\u001b[39m\"\u001b[39m: cv2\u001b[39m.\u001b[39mface_FisherFaceRecognizer_create(),\n\u001b[1;32m      <a href='vscode-notebook-cell:/home/omkar/LP4/MLDS/miniproject.ipynb#W2sZmlsZQ%3D%3D?line=3'>4</a>\u001b[0m     \u001b[39m\"\u001b[39m\u001b[39mLBPH\u001b[39m\u001b[39m\"\u001b[39m: cv2\u001b[39m.\u001b[39mface_LBPHFaceRecognizer_create(),\n\u001b[1;32m      <a href='vscode-notebook-cell:/home/omkar/LP4/MLDS/miniproject.ipynb#W2sZmlsZQ%3D%3D?line=4'>5</a>\u001b[0m     \u001b[39m\"\u001b[39m\u001b[39mHaarcascades\u001b[39m\u001b[39m\"\u001b[39m: cv2\u001b[39m.\u001b[39mCascadeClassifier(cv2\u001b[39m.\u001b[39mdata\u001b[39m.\u001b[39mhaarcascades \u001b[39m+\u001b[39m \u001b[39m'\u001b[39m\u001b[39mhaarcascade_frontalface_default.xml\u001b[39m\u001b[39m'\u001b[39m)\n\u001b[1;32m      <a href='vscode-notebook-cell:/home/omkar/LP4/MLDS/miniproject.ipynb#W2sZmlsZQ%3D%3D?line=5'>6</a>\u001b[0m }\n",
      "\u001b[0;31mAttributeError\u001b[0m: module 'cv2' has no attribute 'face_EigenFaceRecognizer_create'"
     ]
    }
   ],
   "source": [
    "classifiers = {\n",
    "    \"Eigenfaces\": cv2.face_EigenFaceRecognizer_create(),\n",
    "    \"Fisherfaces\": cv2.face_FisherFaceRecognizer_create(),\n",
    "    \"LBPH\": cv2.face_LBPHFaceRecognizer_create(),\n",
    "    \"Haarcascades\": cv2.CascadeClassifier(cv2.data.haarcascades + 'haarcascade_frontalface_default.xml')\n",
    "}\n"
   ]
  },
  {
   "cell_type": "code",
   "execution_count": null,
   "metadata": {},
   "outputs": [],
   "source": [
    "for clf_name, clf in classifiers.items():\n",
    "    if clf_name == \"Haarcascades\":\n",
    "        continue\n",
    "    clf.train(X_train, y_train)\n"
   ]
  },
  {
   "cell_type": "code",
   "execution_count": null,
   "metadata": {},
   "outputs": [],
   "source": [
    "face_cascade = classifiers[\"Haarcascades\"]\n",
    "\n",
    "# Lists to store results\n",
    "true_labels = []\n",
    "predicted_labels = []\n",
    "\n",
    "# Perform face recognition\n",
    "for i in range(len(X_test)):\n",
    "    # Haarcascades detection\n",
    "    faces = face_cascade.detectMultiScale(X_test[i], scaleFactor=1.1, minNeighbors=5)\n",
    "    \n",
    "    if len(faces) > 0:\n",
    "        x, y, w, h = faces[0]\n",
    "        face_roi = X_test[i][y:y+h, x:x+w]\n",
    "\n",
    "        # Eigenfaces, Fisherfaces, and LBPH recognition\n",
    "        for clf_name, clf in classifiers.items():\n",
    "            if clf_name == \"Haarcascades\":\n",
    "                continue\n",
    "            label, _ = clf.predict(face_roi)\n",
    "            true_labels.append(y_test[i])\n",
    "            predicted_labels.append(label)\n"
   ]
  },
  {
   "cell_type": "code",
   "execution_count": null,
   "metadata": {},
   "outputs": [],
   "source": [
    "for clf_name, clf in classifiers.items():\n",
    "    if clf_name == \"Haarcascades\":\n",
    "        continue\n",
    "    accuracy = accuracy_score(true_labels, predicted_labels)\n",
    "    report = classification_report(true_labels, predicted_labels, target_names=lfw_people.target_names)\n",
    "    print(f\"Classifier: {clf_name}\")\n",
    "    print(f\"Accuracy: {accuracy}\")\n",
    "    print(report)"
   ]
  }
 ],
 "metadata": {
  "kernelspec": {
   "display_name": "tf2",
   "language": "python",
   "name": "tf2"
  },
  "language_info": {
   "codemirror_mode": {
    "name": "ipython",
    "version": 3
   },
   "file_extension": ".py",
   "mimetype": "text/x-python",
   "name": "python",
   "nbconvert_exporter": "python",
   "pygments_lexer": "ipython3",
   "version": "3.9.16"
  },
  "orig_nbformat": 4
 },
 "nbformat": 4,
 "nbformat_minor": 2
}
